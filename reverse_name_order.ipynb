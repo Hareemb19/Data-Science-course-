{
 "cells": [
  {
   "cell_type": "code",
   "execution_count": 1,
   "id": "f598ca1b",
   "metadata": {},
   "outputs": [
    {
     "name": "stdout",
     "output_type": "stream",
     "text": [
      "enter your first name: a\n",
      "enter your last name:b\n",
      "reversing order...\n",
      "b a\n"
     ]
    }
   ],
   "source": [
    "fn = str(input(\"enter your first name: \"))\n",
    "ln = str(input(\"enter your last name:\"))\n",
    "print(\"reversing order...\")\n",
    "print(ln+\" \"+fn)"
   ]
  },
  {
   "cell_type": "code",
   "execution_count": null,
   "id": "da3a458f",
   "metadata": {},
   "outputs": [],
   "source": []
  }
 ],
 "metadata": {
  "kernelspec": {
   "display_name": "Python 3 (ipykernel)",
   "language": "python",
   "name": "python3"
  },
  "language_info": {
   "codemirror_mode": {
    "name": "ipython",
    "version": 3
   },
   "file_extension": ".py",
   "mimetype": "text/x-python",
   "name": "python",
   "nbconvert_exporter": "python",
   "pygments_lexer": "ipython3",
   "version": "3.9.7"
  }
 },
 "nbformat": 4,
 "nbformat_minor": 5
}

{
 "cells": [
  {
   "cell_type": "code",
   "execution_count": 1,
   "id": "54bd2c5a",
   "metadata": {},
   "outputs": [
    {
     "name": "stdout",
     "output_type": "stream",
     "text": [
      "enter 1st number: 4\n",
      "enter 2nd number: 5\n",
      "the sum is... 9\n"
     ]
    }
   ],
   "source": [
    "a = int(input(\"enter 1st number: \"))\n",
    "b = int(input(\"enter 2nd number: \"))\n",
    "print(\"the sum is...\", a+b)"
   ]
  },
  {
   "cell_type": "code",
   "execution_count": null,
   "id": "9dd900d2",
   "metadata": {},
   "outputs": [],
   "source": []
  }
 ],
 "metadata": {
  "kernelspec": {
   "display_name": "Python 3 (ipykernel)",
   "language": "python",
   "name": "python3"
  },
  "language_info": {
   "codemirror_mode": {
    "name": "ipython",
    "version": 3
   },
   "file_extension": ".py",
   "mimetype": "text/x-python",
   "name": "python",
   "nbconvert_exporter": "python",
   "pygments_lexer": "ipython3",
   "version": "3.9.7"
  }
 },
 "nbformat": 4,
 "nbformat_minor": 5
}

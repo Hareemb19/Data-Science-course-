{
 "cells": [
  {
   "cell_type": "code",
   "execution_count": 1,
   "id": "67637a95",
   "metadata": {},
   "outputs": [
    {
     "name": "stdout",
     "output_type": "stream",
     "text": [
      "Enter radius: 5\n",
      "the area of the circle is... 78.5\n"
     ]
    }
   ],
   "source": [
    "radius = int(input(\"Enter radius: \"))\n",
    "pi = 3.14\n",
    "area = float((radius**2) * pi)\n",
    "print(\"the area of the circle is...\", area)"
   ]
  },
  {
   "cell_type": "code",
   "execution_count": null,
   "id": "4ec81b3d",
   "metadata": {},
   "outputs": [],
   "source": []
  }
 ],
 "metadata": {
  "kernelspec": {
   "display_name": "Python 3 (ipykernel)",
   "language": "python",
   "name": "python3"
  },
  "language_info": {
   "codemirror_mode": {
    "name": "ipython",
    "version": 3
   },
   "file_extension": ".py",
   "mimetype": "text/x-python",
   "name": "python",
   "nbconvert_exporter": "python",
   "pygments_lexer": "ipython3",
   "version": "3.9.7"
  }
 },
 "nbformat": 4,
 "nbformat_minor": 5
}
